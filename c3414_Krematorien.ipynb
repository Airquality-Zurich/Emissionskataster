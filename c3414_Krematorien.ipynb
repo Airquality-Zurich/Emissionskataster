{
 "cells": [
  {
   "cell_type": "code",
   "execution_count": 1,
   "id": "84e346b4-c5c0-4695-848f-4b09045f62e0",
   "metadata": {},
   "outputs": [],
   "source": [
    "import pandas as pd\n",
    "import helpers as hlp"
   ]
  },
  {
   "cell_type": "code",
   "execution_count": 2,
   "id": "5ef46585-189a-41d4-a442-56acd01db45f",
   "metadata": {},
   "outputs": [],
   "source": [
    "# Emis Ef\n",
    "df_emis = hlp.emis_load_ef()"
   ]
  },
  {
   "cell_type": "code",
   "execution_count": 3,
   "id": "528dd54e-d7f4-4d37-ba80-8f489a401039",
   "metadata": {},
   "outputs": [
    {
     "data": {
      "text/html": [
       "<div>\n",
       "<style scoped>\n",
       "    .dataframe tbody tr th:only-of-type {\n",
       "        vertical-align: middle;\n",
       "    }\n",
       "\n",
       "    .dataframe tbody tr th {\n",
       "        vertical-align: top;\n",
       "    }\n",
       "\n",
       "    .dataframe thead th {\n",
       "        text-align: right;\n",
       "    }\n",
       "</style>\n",
       "<table border=\"1\" class=\"dataframe\">\n",
       "  <thead>\n",
       "    <tr style=\"text-align: right;\">\n",
       "      <th></th>\n",
       "      <th>Unnamed: 0</th>\n",
       "      <th>Ofen 1</th>\n",
       "      <th>Ofen 2</th>\n",
       "      <th>Ofen 3</th>\n",
       "      <th>Ofen 4</th>\n",
       "      <th>Ofen 5</th>\n",
       "      <th>Ofen 6</th>\n",
       "      <th>Ofen 7</th>\n",
       "      <th>Total</th>\n",
       "    </tr>\n",
       "  </thead>\n",
       "  <tbody>\n",
       "    <tr>\n",
       "      <th>0</th>\n",
       "      <td>Einäscherungen</td>\n",
       "      <td>1409</td>\n",
       "      <td>416</td>\n",
       "      <td>0</td>\n",
       "      <td>1385</td>\n",
       "      <td>1263</td>\n",
       "      <td>1444</td>\n",
       "      <td>1308</td>\n",
       "      <td>7225</td>\n",
       "    </tr>\n",
       "    <tr>\n",
       "      <th>1</th>\n",
       "      <td>Anzahl Kremationen ohne Abbgasreinigung</td>\n",
       "      <td>28</td>\n",
       "      <td>1</td>\n",
       "      <td>0</td>\n",
       "      <td>31</td>\n",
       "      <td>5</td>\n",
       "      <td>38</td>\n",
       "      <td>25</td>\n",
       "      <td>128</td>\n",
       "    </tr>\n",
       "  </tbody>\n",
       "</table>\n",
       "</div>"
      ],
      "text/plain": [
       "                                Unnamed: 0  Ofen 1  Ofen 2  Ofen 3  Ofen 4  \\\n",
       "0                           Einäscherungen    1409     416       0    1385   \n",
       "1  Anzahl Kremationen ohne Abbgasreinigung      28       1       0      31   \n",
       "\n",
       "   Ofen 5  Ofen 6  Ofen 7  Total  \n",
       "0    1263    1444    1308   7225  \n",
       "1       5      38      25    128  "
      ]
     },
     "execution_count": 3,
     "metadata": {},
     "output_type": "execute_result"
    }
   ],
   "source": [
    "# load Ofenstatistik\n",
    "path_ofen = r'\\\\szh.loc\\ugz\\Applikationen\\Emissionskataster\\Dokumentation\\2022_Dokumentation\\03_Industrie_Gewerbe\\c3414_Krematorium\\2022 Auswertung Ofenstatistik.xlsx'\n",
    "df_ofen = pd.read_excel(path_ofen)\n",
    "df_ofen"
   ]
  },
  {
   "cell_type": "code",
   "execution_count": 23,
   "id": "58dd9da2-3361-49f0-a1a0-10d610cd7551",
   "metadata": {},
   "outputs": [],
   "source": [
    "einaesch_mit = df_ofen.loc[df_ofen['Unnamed: 0'] == 'Einäscherungen','Total'].values[0]\n",
    "einaesch_ohne = df_ofen.loc[df_ofen['Unnamed: 0'] == 'Anzahl Kremationen ohne Abbgasreinigung','Total'].values[0]\n",
    "einaesch_total = einaesch_mit + einaesch_ohne"
   ]
  },
  {
   "cell_type": "code",
   "execution_count": 25,
   "id": "caf1a292-94ae-4aee-aaf7-bab075ff9ac9",
   "metadata": {},
   "outputs": [
    {
     "data": {
      "text/plain": [
       "128"
      ]
     },
     "execution_count": 25,
     "metadata": {},
     "output_type": "execute_result"
    }
   ],
   "source": [
    "einaesch_ohne"
   ]
  },
  {
   "cell_type": "code",
   "execution_count": 11,
   "id": "ce50e9b7-b51b-4445-bd04-278131c7a945",
   "metadata": {},
   "outputs": [],
   "source": [
    "# Emissionsfaktoren aus Messung laden\n",
    "path = r'\\\\szh.loc\\ugz\\Applikationen\\Emissionskataster\\Dokumentation\\2022_Dokumentation\\00_Emissionsfaktoren\\Emissionsfaktoren_Krematorium_UGZ.xlsx'\n",
    "ef_krem = pd.read_excel(path)"
   ]
  },
  {
   "cell_type": "code",
   "execution_count": 17,
   "id": "af37d281-a35d-447f-a200-768530b8edfc",
   "metadata": {},
   "outputs": [],
   "source": [
    "# Emissionen Krematorium\n",
    "def krematorium (df_emis, year):\n",
    "\n",
    "    # EF Erhebung Heinz Jenal 2010 - 2013 [g]\n",
    "    ef_pm10ex_mit = ef_krem['Feststoffe mit ARE [g/Einaescherung]'].values[0]\n",
    "    ef_pm10ex_ohne = ef_krem['Feststoffe ohne ARE [g/Einaescherung]'].values[0] \n",
    "    ef_pm25ex_mit = ef_pm10ex_mit #Analog EMIS\n",
    "    ef_pm25ex_ohne = ef_pm10ex_ohne #Analgo EMIS\n",
    "    ef_voc_mit = ef_krem['VOC mit ARE [g/Einaescherung]'].values[0]\n",
    "    ef_voc_ohne = ef_krem['VOC ohne ARE [g/Einaescherung]'].values[0]\n",
    "    ef_co = ef_krem['CO [g/Einäscherung]'].values[0]\n",
    "    ef_co2 = ef_krem['CO2 [g/Einäscherung]'].values[0]\n",
    "    ef_so2 = ef_krem['SO2 [g/Einäscherung]'].values[0]\n",
    "    ef_nox = ef_krem['NOx [g/Einäscherung]'].values[0]\n",
    "    \n",
    "    #EF BCex mit ARE hergeleitet aus Verhältnis der BAFU EF BC/PM10ex [g]\n",
    "    ef_bc_mit = (df_emis[year].loc[df_emis['Prozess'].isin(['Krematorien']) & df_emis['Schadstoff'].isin(['BC exhaust'])].item()) / \\\n",
    "                (df_emis[year].loc[df_emis['Prozess'].isin(['Krematorien']) & df_emis['Schadstoff'].isin(['PM10 exhaust'])].item()) * \\\n",
    "                ef_krem['Feststoffe mit ARE [g/Einaescherung]'].item()\n",
    "    #EF BCex ohne ARE hergeleitet aus Verhältnis der BAFU EF BC/PM10ex\n",
    "    ef_bc_ohne = (df_emis[year].loc[df_emis['Prozess'].isin(['Krematorien']) & df_emis['Schadstoff'].isin(['BC exhaust'])].item()) / \\\n",
    "                (df_emis[year].loc[df_emis['Prozess'].isin(['Krematorien']) & df_emis['Schadstoff'].isin(['PM10 exhaust'])].item()) * \\\n",
    "                ef_krem['Feststoffe ohne ARE [g/Einaescherung]'].item()   \n",
    "\n",
    "    # Emissionsberechnung [kg]\n",
    "    data = {\n",
    "            'X': 2682033,\n",
    "            'Y': 1251106,\n",
    "            'Emission_PM10ex': (einaesch_mit * ef_pm10ex_mit + einaesch_ohne * ef_pm10ex_ohne) /1000,\n",
    "            'Emission_NOx':einaesch_total * ef_nox /1000,\n",
    "            'Emission_VOC': (einaesch_mit * ef_voc_mit + einaesch_ohne * ef_voc_ohne) /1000,\n",
    "            'Emission_SO2': einaesch_total * ef_so2 /1000,\n",
    "            'Emission_CO2': einaesch_total * ef_co2 /1000,\n",
    "            'Emission_CO': einaesch_total * ef_co /1000,\n",
    "            'Emission_PM25ex': (einaesch_mit * ef_pm25ex_mit + einaesch_ohne * ef_pm25ex_ohne) /1000,\n",
    "            'Emission_BC': (einaesch_mit * ef_bc_mit + einaesch_ohne * ef_bc_ohne) / 1000\n",
    "    }\n",
    "\n",
    "    # Dataframe\n",
    "    df_emissionen = pd.DataFrame(data, index=[0])\n",
    "\n",
    "    return df_emissionen"
   ]
  },
  {
   "cell_type": "code",
   "execution_count": 18,
   "id": "4cb96bc2-2d9d-47bb-807d-0149b7c1f267",
   "metadata": {},
   "outputs": [
    {
     "data": {
      "text/html": [
       "<div>\n",
       "<style scoped>\n",
       "    .dataframe tbody tr th:only-of-type {\n",
       "        vertical-align: middle;\n",
       "    }\n",
       "\n",
       "    .dataframe tbody tr th {\n",
       "        vertical-align: top;\n",
       "    }\n",
       "\n",
       "    .dataframe thead th {\n",
       "        text-align: right;\n",
       "    }\n",
       "</style>\n",
       "<table border=\"1\" class=\"dataframe\">\n",
       "  <thead>\n",
       "    <tr style=\"text-align: right;\">\n",
       "      <th></th>\n",
       "      <th>X</th>\n",
       "      <th>Y</th>\n",
       "      <th>Emission_PM10ex</th>\n",
       "      <th>Emission_NOx</th>\n",
       "      <th>Emission_VOC</th>\n",
       "      <th>Emission_SO2</th>\n",
       "      <th>Emission_CO2</th>\n",
       "      <th>Emission_CO</th>\n",
       "      <th>Emission_PM25ex</th>\n",
       "      <th>Emission_BC</th>\n",
       "    </tr>\n",
       "  </thead>\n",
       "  <tbody>\n",
       "    <tr>\n",
       "      <th>0</th>\n",
       "      <td>2682033</td>\n",
       "      <td>1251106</td>\n",
       "      <td>39.641937</td>\n",
       "      <td>1674.602177</td>\n",
       "      <td>14.431957</td>\n",
       "      <td>255.087825</td>\n",
       "      <td>456162.690667</td>\n",
       "      <td>112.528406</td>\n",
       "      <td>39.641937</td>\n",
       "      <td>0.356777</td>\n",
       "    </tr>\n",
       "  </tbody>\n",
       "</table>\n",
       "</div>"
      ],
      "text/plain": [
       "         X        Y  Emission_PM10ex  Emission_NOx  Emission_VOC  \\\n",
       "0  2682033  1251106        39.641937   1674.602177     14.431957   \n",
       "\n",
       "   Emission_SO2   Emission_CO2  Emission_CO  Emission_PM25ex  Emission_BC  \n",
       "0    255.087825  456162.690667   112.528406        39.641937     0.356777  "
      ]
     },
     "execution_count": 18,
     "metadata": {},
     "output_type": "execute_result"
    }
   ],
   "source": [
    "df_emissionen = krematorium(df_emis, 2022)\n",
    "df_emissionen"
   ]
  },
  {
   "cell_type": "code",
   "execution_count": 44,
   "id": "a496450a-b3b4-4093-8b80-7863e02e9cc0",
   "metadata": {},
   "outputs": [],
   "source": [
    "df_emissionen.to_excel(r'Z:\\Inputdateien\\3_IndustrieGewerbe\\c3414_Krematorium_Emissionsmengen.xlsx',sheet_name = 'Krematorium' , index=False)"
   ]
  }
 ],
 "metadata": {
  "kernelspec": {
   "display_name": "Python 3 (ipykernel)",
   "language": "python",
   "name": "python3"
  },
  "language_info": {
   "codemirror_mode": {
    "name": "ipython",
    "version": 3
   },
   "file_extension": ".py",
   "mimetype": "text/x-python",
   "name": "python",
   "nbconvert_exporter": "python",
   "pygments_lexer": "ipython3",
   "version": "3.11.5"
  }
 },
 "nbformat": 4,
 "nbformat_minor": 5
}
